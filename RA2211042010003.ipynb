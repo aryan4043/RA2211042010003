{
  "nbformat": 4,
  "nbformat_minor": 0,
  "metadata": {
    "colab": {
      "provenance": [],
      "authorship_tag": "ABX9TyM+zL9ls1Va4rd+PX3F5DA+",
      "include_colab_link": true
    },
    "kernelspec": {
      "name": "python3",
      "display_name": "Python 3"
    },
    "language_info": {
      "name": "python"
    }
  },
  "cells": [
    {
      "cell_type": "markdown",
      "metadata": {
        "id": "view-in-github",
        "colab_type": "text"
      },
      "source": [
        "<a href=\"https://colab.research.google.com/github/aryan4043/RA2211042010003/blob/main/RA2211042010003.ipynb\" target=\"_parent\"><img src=\"https://colab.research.google.com/assets/colab-badge.svg\" alt=\"Open In Colab\"/></a>"
      ]
    },
    {
      "cell_type": "code",
      "execution_count": 1,
      "metadata": {
        "colab": {
          "base_uri": "https://localhost:8080/"
        },
        "id": "3QSR48DLHhXq",
        "outputId": "e8326af5-32f9-4b0d-dfea-4de4503aaf10"
      },
      "outputs": [
        {
          "output_type": "stream",
          "name": "stdout",
          "text": [
            "hello\n"
          ]
        }
      ],
      "source": [
        "print(\"hello\")\n"
      ]
    },
    {
      "cell_type": "code",
      "source": [
        "23+45"
      ],
      "metadata": {
        "colab": {
          "base_uri": "https://localhost:8080/"
        },
        "id": "NCEPK9k3H0S7",
        "outputId": "6e5a692c-fb0a-4c11-fc31-272a85919a93"
      },
      "execution_count": 2,
      "outputs": [
        {
          "output_type": "execute_result",
          "data": {
            "text/plain": [
              "68"
            ]
          },
          "metadata": {},
          "execution_count": 2
        }
      ]
    },
    {
      "cell_type": "code",
      "source": [
        "print(\"csbs\")"
      ],
      "metadata": {
        "colab": {
          "base_uri": "https://localhost:8080/"
        },
        "id": "z0Lv99PGH5nI",
        "outputId": "36920bf7-1ffb-4eae-b0b5-563b64d920da"
      },
      "execution_count": 3,
      "outputs": [
        {
          "output_type": "stream",
          "name": "stdout",
          "text": [
            "csbs\n"
          ]
        }
      ]
    },
    {
      "cell_type": "code",
      "source": [
        "678%2"
      ],
      "metadata": {
        "colab": {
          "base_uri": "https://localhost:8080/"
        },
        "id": "NZ7_jkO-H-6T",
        "outputId": "3182d470-69fc-4488-c9e6-f24edb3917af"
      },
      "execution_count": 4,
      "outputs": [
        {
          "output_type": "execute_result",
          "data": {
            "text/plain": [
              "0"
            ]
          },
          "metadata": {},
          "execution_count": 4
        }
      ]
    },
    {
      "cell_type": "code",
      "source": [
        "5543%3"
      ],
      "metadata": {
        "colab": {
          "base_uri": "https://localhost:8080/"
        },
        "id": "zHW9Q53BIDnr",
        "outputId": "e249c8b4-ff12-4671-8be8-491c2883590e"
      },
      "execution_count": 5,
      "outputs": [
        {
          "output_type": "execute_result",
          "data": {
            "text/plain": [
              "2"
            ]
          },
          "metadata": {},
          "execution_count": 5
        }
      ]
    },
    {
      "cell_type": "code",
      "source": [
        "5444*655"
      ],
      "metadata": {
        "colab": {
          "base_uri": "https://localhost:8080/"
        },
        "id": "lUF_OhqkIJV-",
        "outputId": "d6d72775-bb9c-4c83-9069-04423cffe325"
      },
      "execution_count": 6,
      "outputs": [
        {
          "output_type": "execute_result",
          "data": {
            "text/plain": [
              "3565820"
            ]
          },
          "metadata": {},
          "execution_count": 6
        }
      ]
    },
    {
      "cell_type": "code",
      "source": [
        "int (\"780\")"
      ],
      "metadata": {
        "colab": {
          "base_uri": "https://localhost:8080/"
        },
        "id": "a2FsdPAdIMt1",
        "outputId": "641697c9-b740-4045-a3e3-7f9a56000965"
      },
      "execution_count": 8,
      "outputs": [
        {
          "output_type": "execute_result",
          "data": {
            "text/plain": [
              "780"
            ]
          },
          "metadata": {},
          "execution_count": 8
        }
      ]
    },
    {
      "cell_type": "code",
      "source": [
        "print(\"9*5\")"
      ],
      "metadata": {
        "colab": {
          "base_uri": "https://localhost:8080/"
        },
        "id": "Ts9JFM4UK329",
        "outputId": "5bfd6cfc-67fe-49fa-be94-f14b5bdb9c97"
      },
      "execution_count": 9,
      "outputs": [
        {
          "output_type": "stream",
          "name": "stdout",
          "text": [
            "9*5\n"
          ]
        }
      ]
    },
    {
      "cell_type": "code",
      "source": [
        "float(\"3.14\")"
      ],
      "metadata": {
        "colab": {
          "base_uri": "https://localhost:8080/"
        },
        "id": "FGGzmht1Ly_W",
        "outputId": "bc01b1c3-8ffd-4604-ec02-33bee3b88bff"
      },
      "execution_count": 10,
      "outputs": [
        {
          "output_type": "execute_result",
          "data": {
            "text/plain": [
              "3.14"
            ]
          },
          "metadata": {},
          "execution_count": 10
        }
      ]
    },
    {
      "cell_type": "code",
      "source": [
        "# If the number is positive, we print an appropriate message\n",
        "\n",
        "num = 3\n",
        "if num > 0:\n",
        "    print(num, \"is a positive number.\")\n",
        "print(\"This is always printed.\")\n",
        "\n",
        "num = -1\n",
        "if num > 0:\n",
        "    print(num, \"is a positive number.\")\n",
        "print(\"This is also always printed.\")"
      ],
      "metadata": {
        "colab": {
          "base_uri": "https://localhost:8080/"
        },
        "id": "Wy1KBSDjMF8o",
        "outputId": "be43a047-87c4-41ed-af15-d71b00cd72f1"
      },
      "execution_count": 11,
      "outputs": [
        {
          "output_type": "stream",
          "name": "stdout",
          "text": [
            "3 is a positive number.\n",
            "This is always printed.\n",
            "This is also always printed.\n"
          ]
        }
      ]
    },
    {
      "cell_type": "code",
      "source": [
        "# assign value to site_name variable\n",
        "site_name = 'programiz.pro'\n",
        "\n",
        "print(site_name)\n",
        "\n",
        "# Output: programiz.pro"
      ],
      "metadata": {
        "colab": {
          "base_uri": "https://localhost:8080/"
        },
        "id": "T2PI2UTwM_Ke",
        "outputId": "9967ad34-67cb-4c02-e455-273c07ee815a"
      },
      "execution_count": 13,
      "outputs": [
        {
          "output_type": "stream",
          "name": "stdout",
          "text": [
            "programiz.pro\n"
          ]
        }
      ]
    },
    {
      "cell_type": "code",
      "source": [
        "site_name = 'programiz.pro'\n",
        "print(site_name)\n",
        "\n",
        "# assigning a new value to site_name\n",
        "site_name = 'apple.com'\n",
        "\n",
        "print(site_name)"
      ],
      "metadata": {
        "colab": {
          "base_uri": "https://localhost:8080/"
        },
        "id": "Gl7oL2XUOOPg",
        "outputId": "421dec05-74a8-476b-fa55-3e5811e2b342"
      },
      "execution_count": 14,
      "outputs": [
        {
          "output_type": "stream",
          "name": "stdout",
          "text": [
            "programiz.pro\n",
            "apple.com\n"
          ]
        }
      ]
    },
    {
      "cell_type": "markdown",
      "source": [
        "create a list of length 4 and print 3rd element\n"
      ],
      "metadata": {
        "id": "Rtk3c3o0OoR6"
      }
    },
    {
      "cell_type": "code",
      "source": [
        "listl=[45,64,73,39]\n",
        "print(listl[3])"
      ],
      "metadata": {
        "colab": {
          "base_uri": "https://localhost:8080/"
        },
        "id": "atIsvwwiOqIQ",
        "outputId": "aa188f4f-9a1e-4da0-c8bd-643258a8863e"
      },
      "execution_count": 16,
      "outputs": [
        {
          "output_type": "stream",
          "name": "stdout",
          "text": [
            "39\n"
          ]
        }
      ]
    },
    {
      "cell_type": "markdown",
      "source": [
        "taking two numbers for sum"
      ],
      "metadata": {
        "id": "y1LXXQHQP5Zk"
      }
    },
    {
      "cell_type": "code",
      "source": [
        "x = 5\n",
        "y = 10\n",
        "print(x + y)"
      ],
      "metadata": {
        "colab": {
          "base_uri": "https://localhost:8080/"
        },
        "id": "Aytmj7XDQDQ5",
        "outputId": "8c759517-b938-46d5-b3cd-19780c28fd40"
      },
      "execution_count": 17,
      "outputs": [
        {
          "output_type": "stream",
          "name": "stdout",
          "text": [
            "15\n"
          ]
        }
      ]
    },
    {
      "cell_type": "markdown",
      "source": [
        "adding two numbers with user input "
      ],
      "metadata": {
        "id": "jToW7jtARShf"
      }
    },
    {
      "cell_type": "code",
      "source": [
        "x = input(\"Type a number: \")\n",
        "y = input(\"Type another number: \")\n",
        "\n",
        "sum = int(x) + int(y)\n",
        "\n",
        "print(\"The sum is: \", sum)"
      ],
      "metadata": {
        "colab": {
          "base_uri": "https://localhost:8080/"
        },
        "id": "eO6bmd9ORh3U",
        "outputId": "6bb354a7-a470-4d60-f912-30d3e342b999"
      },
      "execution_count": 19,
      "outputs": [
        {
          "output_type": "stream",
          "name": "stdout",
          "text": [
            "Type a number: 5\n",
            "Type another number: 6\n",
            "The sum is:  11\n"
          ]
        }
      ]
    },
    {
      "cell_type": "markdown",
      "source": [
        "creating a multiple line doc string\n"
      ],
      "metadata": {
        "id": "2VWs4C1YRtvQ"
      }
    },
    {
      "cell_type": "code",
      "source": [
        "print(\"Hello, World!\")\n",
        "print(\"Hello, World!\")\n"
      ],
      "metadata": {
        "colab": {
          "base_uri": "https://localhost:8080/"
        },
        "id": "jcnfOw-PSDXC",
        "outputId": "12cad21c-54b2-49b9-f954-8345ef3c8e1c"
      },
      "execution_count": 20,
      "outputs": [
        {
          "output_type": "stream",
          "name": "stdout",
          "text": [
            "Hello, World!\n",
            "Hello, World!\n"
          ]
        }
      ]
    },
    {
      "cell_type": "markdown",
      "source": [
        "take 2 side of rectangle and print numbers"
      ],
      "metadata": {
        "id": "56O2RUIHSHJf"
      }
    },
    {
      "cell_type": "code",
      "source": [
        "a1=int(input(\"Enter one side\"))\n",
        "a2=int(input(\"Enter second side\"))\n",
        "print(\"Area of rectangle=\",a1*a2)\n"
      ],
      "metadata": {
        "colab": {
          "base_uri": "https://localhost:8080/"
        },
        "id": "cnfqlGhiSR24",
        "outputId": "942c9650-dfc8-4248-d5b2-51f42a57f0d5"
      },
      "execution_count": 24,
      "outputs": [
        {
          "output_type": "stream",
          "name": "stdout",
          "text": [
            "Enter one side54\n",
            "Enter second side73\n",
            "Area of rectangle= 3942\n"
          ]
        }
      ]
    },
    {
      "cell_type": "markdown",
      "source": [
        "substracting two numbers with user point"
      ],
      "metadata": {
        "id": "HbQr72gZT3A0"
      }
    },
    {
      "cell_type": "code",
      "source": [
        "x= input(\"type a number: \")\n",
        "y= input(\"Type another number: \")\n",
        "def sub(x,y):\n",
        "  subs = int(x) - int (y)\n",
        "  print(subs)\n",
        "print(\"the sub is: \",sub(x,y))"
      ],
      "metadata": {
        "colab": {
          "base_uri": "https://localhost:8080/"
        },
        "id": "IuaowzKmT9et",
        "outputId": "6bd9c6bc-ac45-4ac1-8753-1b6df5a9781c"
      },
      "execution_count": 29,
      "outputs": [
        {
          "output_type": "stream",
          "name": "stdout",
          "text": [
            "type a number: 45\n",
            "Type another number: 10\n",
            "35\n",
            "the sub is:  None\n"
          ]
        }
      ]
    },
    {
      "cell_type": "markdown",
      "source": [
        "add strings"
      ],
      "metadata": {
        "id": "5RgZrrmTVyfe"
      }
    },
    {
      "cell_type": "code",
      "source": [
        "a = \"19\"\n",
        "b = \"23\"\n",
        "c = a + b\n",
        "print(c)"
      ],
      "metadata": {
        "colab": {
          "base_uri": "https://localhost:8080/"
        },
        "id": "NLJWYHh6Wijg",
        "outputId": "a35c506a-04e0-4922-addc-95a78f5835f5"
      },
      "execution_count": 30,
      "outputs": [
        {
          "output_type": "stream",
          "name": "stdout",
          "text": [
            "1923\n"
          ]
        }
      ]
    },
    {
      "cell_type": "markdown",
      "source": [
        "area of the circle"
      ],
      "metadata": {
        "id": "iOntQxhYXOfC"
      }
    },
    {
      "cell_type": "code",
      "source": [
        "r=7\n",
        "pi = 3.14\n",
        "print(\"the area is \",r * r * pi)\n"
      ],
      "metadata": {
        "colab": {
          "base_uri": "https://localhost:8080/"
        },
        "id": "b4r6HXSyX2Uu",
        "outputId": "7fbbeb2b-1a96-44e8-fed0-47d350ceeaa8"
      },
      "execution_count": 31,
      "outputs": [
        {
          "output_type": "stream",
          "name": "stdout",
          "text": [
            "the area is  153.86\n"
          ]
        }
      ]
    },
    {
      "cell_type": "markdown",
      "source": [
        "circumfrence of the circle"
      ],
      "metadata": {
        "id": "VgD8nRv0YasR"
      }
    },
    {
      "cell_type": "code",
      "source": [
        "r=7\n",
        "pi =3.14\n",
        "print(\"the circumference is\", 2* r* pi)"
      ],
      "metadata": {
        "colab": {
          "base_uri": "https://localhost:8080/"
        },
        "id": "5AUZUYrCYwAk",
        "outputId": "a0ccdb03-8952-482a-a8b1-f27f81b49428"
      },
      "execution_count": 32,
      "outputs": [
        {
          "output_type": "stream",
          "name": "stdout",
          "text": [
            "the circumference is 43.96\n"
          ]
        }
      ]
    }
  ]
}